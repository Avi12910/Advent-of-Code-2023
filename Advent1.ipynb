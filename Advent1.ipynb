{
 "cells": [
  {
   "cell_type": "code",
   "execution_count": 3,
   "id": "3860b681-4afe-4fee-a398-0dfbdb9d7f33",
   "metadata": {},
   "outputs": [],
   "source": [
    "input_file = open(r\"C:\\Users\\Avi\\Documents\\Jupyter Notebooks\\Advent of Code 2023\\Input_1.txt\")\n",
    "input_file = input_file.read()\n",
    "input_file = input_file.replace(\"one\",\"one1one\")\n",
    "input_file = input_file.replace(\"two\",\"two2two\")\n",
    "input_file = input_file.replace(\"three\",\"three3three\")\n",
    "input_file = input_file.replace(\"four\",\"four4four\")\n",
    "input_file = input_file.replace(\"five\",\"five5five\")\n",
    "input_file = input_file.replace(\"six\",\"six6six\")\n",
    "input_file = input_file.replace(\"seven\",\"seven7seven\")\n",
    "input_file = input_file.replace(\"eight\",\"eight8eight\")\n",
    "input_file = input_file.replace(\"nine\",\"nine9nine\")\n",
    "\n",
    "input_file = input_file.split('\\n')"
   ]
  },
  {
   "cell_type": "code",
   "execution_count": 4,
   "id": "6799d814-bc36-46a2-bbfa-cad9ac9edd15",
   "metadata": {},
   "outputs": [
    {
     "name": "stdout",
     "output_type": "stream",
     "text": [
      "53221\n"
     ]
    }
   ],
   "source": [
    "n = 0\n",
    "for line in input_file:\n",
    "    num = \"\"\n",
    "    i = 0\n",
    "    for l in line:\n",
    "        if l.isdigit():\n",
    "            num = num + l\n",
    "            break;\n",
    "\n",
    "    for l in line[::-1]:\n",
    "        if l.isdigit():\n",
    "            num = num + l\n",
    "            break;\n",
    "\n",
    "    n = n + int(num)\n",
    "\n",
    "\n",
    "print(n)"
   ]
  },
  {
   "cell_type": "code",
   "execution_count": null,
   "id": "70bc0068-9698-4faa-9d75-6fdd2a4bef00",
   "metadata": {},
   "outputs": [],
   "source": []
  }
 ],
 "metadata": {
  "kernelspec": {
   "display_name": "Python 3 (ipykernel)",
   "language": "python",
   "name": "python3"
  },
  "language_info": {
   "codemirror_mode": {
    "name": "ipython",
    "version": 3
   },
   "file_extension": ".py",
   "mimetype": "text/x-python",
   "name": "python",
   "nbconvert_exporter": "python",
   "pygments_lexer": "ipython3",
   "version": "3.12.5"
  }
 },
 "nbformat": 4,
 "nbformat_minor": 5
}
