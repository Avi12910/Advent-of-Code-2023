{
 "cells": [
  {
   "cell_type": "code",
   "execution_count": 2,
   "id": "499b2a10-ee3a-4967-b944-3cbf3ef091b5",
   "metadata": {},
   "outputs": [],
   "source": [
    "input_file = open(r\"C:\\Users\\Avi\\Documents\\Jupyter Notebooks\\Advent of Code 2023\\Input_3.txt\")\n",
    "input_file = input_file.read()"
   ]
  },
  {
   "cell_type": "code",
   "execution_count": 3,
   "id": "5fe30002-2e90-4104-8c28-2e8a44ba00af",
   "metadata": {},
   "outputs": [],
   "source": [
    "file = input_file.split(\"\\n\")\n",
    "numpos = []\n",
    "for index, line in enumerate(file):\n",
    "    isnum = False\n",
    "    startpos = (0,0)\n",
    "    endpos = (0,0)\n",
    "    currentnum = \"\"\n",
    "    for index2, char in enumerate(line):\n",
    "        if char.isdigit():\n",
    "            if not isnum:\n",
    "                isnum = True\n",
    "                startpos = (index2, index)\n",
    "            currentnum = currentnum + char\n",
    "        if ((not char.isdigit()) or index2 == len(line) - 1) and isnum:\n",
    "            endpos = (index2 - 1, index)\n",
    "            numpos.append((currentnum, startpos, endpos))\n",
    "            isnum = False\n",
    "            currentnum = \"\"\n",
    "            startpos = (0,0)\n",
    "            endpos = (0,0)"
   ]
  },
  {
   "cell_type": "code",
   "execution_count": 5,
   "id": "0369a6c8-7a2a-4684-9abe-3d0810c2e8e1",
   "metadata": {
    "scrolled": true
   },
   "outputs": [],
   "source": [
    "#part 1\n",
    "\n",
    "tot = 0\n",
    "\n",
    "\n",
    "for pos in numpos:\n",
    "    add = False\n",
    "    startpos = pos[1]\n",
    "    endpos = pos[2]\n",
    "    for i in range(startpos[0] - 1, min(endpos[0] + 2, len(file[startpos[1]]))):\n",
    "        if not file[startpos[1]-1][i].isdigit() and file[startpos[1]-1][i] != \".\":\n",
    "            add = True\n",
    "            break;\n",
    "        if not file[startpos[1]][i].isdigit() and file[startpos[1]][i] != \".\":\n",
    "            add = True\n",
    "            break;\n",
    "        if startpos[1] != len(file) - 1 and not file[startpos[1] + 1][i].isdigit() and file[startpos[1] + 1][i] != \".\":\n",
    "            add = True\n",
    "            break;\n",
    "\n",
    "    if add:\n",
    "        tot = tot + int(pos[0])"
   ]
  },
  {
   "cell_type": "code",
   "execution_count": 6,
   "id": "5fbd9357-a569-4876-923d-080bccee1a6d",
   "metadata": {},
   "outputs": [],
   "source": [
    "#part 2\n",
    "\n",
    "symbol_pos = []\n",
    "file = input_file.split(\"\\n\")\n",
    "for index, line in enumerate(file):\n",
    "    for index2, char in enumerate(line):\n",
    "        if char == \"*\":\n",
    "            symbol_pos.append((index2, index))\n",
    "\n",
    "tot = []\n",
    "for sympos in symbol_pos:\n",
    "    x = sympos[0]\n",
    "    y = sympos[1]\n",
    "    nums = [\"\",\"\"]\n",
    "    num_iter = 0\n",
    "    h = y - 1\n",
    "    while h <= y + 1:\n",
    "        i = x - 1\n",
    "        while x - 1 <= i <= x + 1:\n",
    "            if file[h][i].isdigit():\n",
    "                loopbreak = False\n",
    "                while i >= -1:\n",
    "                    if loopbreak:\n",
    "                        break;\n",
    "                    if i == -1 or (not file[h][i].isdigit()) :\n",
    "                        i += 1\n",
    "                        while i < len(file[h]):\n",
    "                            if file[h][i].isdigit():\n",
    "                                nums[num_iter] += file[h][i]\n",
    "                                i += 1\n",
    "                                if i == len(file[h]):\n",
    "                                    num_iter += 1\n",
    "                                    loopbreak = True\n",
    "                                    break;\n",
    "                            else:\n",
    "                                num_iter += 1\n",
    "                                loopbreak = True\n",
    "                                break;\n",
    "                    else:\n",
    "                        i -= 1                 \n",
    "            elif num_iter == 2:\n",
    "                break;\n",
    "            else:\n",
    "                i += 1\n",
    "                \n",
    "        if num_iter == 2:\n",
    "            break;\n",
    "            \n",
    "        h += 1\n",
    "    tot.append(nums)\n",
    "\n"
   ]
  },
  {
   "cell_type": "code",
   "execution_count": 7,
   "id": "23161352-31ee-46de-a932-1901f510eedd",
   "metadata": {},
   "outputs": [
    {
     "name": "stdout",
     "output_type": "stream",
     "text": [
      "86879020\n"
     ]
    }
   ],
   "source": [
    "num_total = sum(int(x) * int(0 if y == \"\" else y) for x,y in tot)\n",
    "print(num_total)"
   ]
  },
  {
   "cell_type": "code",
   "execution_count": 26,
   "id": "89bf7b78-c345-4a7c-af08-94ec90a9f0b5",
   "metadata": {},
   "outputs": [
    {
     "name": "stdout",
     "output_type": "stream",
     "text": [
      "8133\n"
     ]
    }
   ],
   "source": []
  }
 ],
 "metadata": {
  "kernelspec": {
   "display_name": "Python 3 (ipykernel)",
   "language": "python",
   "name": "python3"
  },
  "language_info": {
   "codemirror_mode": {
    "name": "ipython",
    "version": 3
   },
   "file_extension": ".py",
   "mimetype": "text/x-python",
   "name": "python",
   "nbconvert_exporter": "python",
   "pygments_lexer": "ipython3",
   "version": "3.12.5"
  }
 },
 "nbformat": 4,
 "nbformat_minor": 5
}
