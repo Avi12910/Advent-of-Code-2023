{
 "cells": [
  {
   "cell_type": "code",
   "execution_count": 5,
   "id": "3d4a3494-2fd8-4cb4-b5ec-7bf2c3820ec9",
   "metadata": {},
   "outputs": [],
   "source": [
    "input_file = open(r\"C:\\Users\\Avi\\Documents\\Jupyter Notebooks\\Advent of Code 2023\\Input_2.txt\")\n",
    "input_file = input_file.read()"
   ]
  },
  {
   "cell_type": "code",
   "execution_count": 16,
   "id": "0894f66a-07d4-4d2f-8675-4526f859d7b9",
   "metadata": {},
   "outputs": [],
   "source": [
    "color_map = {\n",
    "    \"red\" : 12,\n",
    "    \"green\" : 13,\n",
    "    \"blue\" : 14\n",
    "}"
   ]
  },
  {
   "cell_type": "code",
   "execution_count": 46,
   "id": "574417bc-8976-4f75-a8d7-decc47aff4c5",
   "metadata": {},
   "outputs": [
    {
     "name": "stdout",
     "output_type": "stream",
     "text": [
      "2683\n"
     ]
    }
   ],
   "source": [
    "#part 1\n",
    "\n",
    "games = input_file.split(\"\\n\")\n",
    "tot = 0\n",
    "for game in games:\n",
    "    a = game.split(\":\")\n",
    "    id = a[0].split(\" \")[1]\n",
    "    res = a[1].split(\";\")\n",
    "    if all(all(int(item2.split(\" \")[1]) <= color_map[item2.split(\" \")[2]] for item2 in item.split(\",\")) for item in res):\n",
    "            tot = tot + int(id)\n",
    "\n",
    "print(tot)"
   ]
  },
  {
   "cell_type": "code",
   "execution_count": 59,
   "id": "ea1e64aa-afd1-4840-b956-1461462fe312",
   "metadata": {},
   "outputs": [
    {
     "name": "stdout",
     "output_type": "stream",
     "text": [
      "49710\n"
     ]
    }
   ],
   "source": [
    "#part 2\n",
    "from functools import reduce\n",
    "\n",
    "games = input_file.split(\"\\n\")\n",
    "tot = 0\n",
    "for game in games:\n",
    "    max_map = {\n",
    "    \"red\" : 0,\n",
    "    \"green\" : 0,\n",
    "    \"blue\" : 0\n",
    "    }\n",
    "    \n",
    "    a = game.split(\":\")[1]\n",
    "    res = a.replace(\";\",\",\").split(\",\")\n",
    "    for pull in res:\n",
    "        num = int(pull.split(\" \")[1])\n",
    "        color = pull.split(\" \")[2]\n",
    "        if num > max_map[color]:\n",
    "            max_map[color] = num \n",
    "\n",
    "    prod = reduce(lambda x, y: x * y, max_map.values())\n",
    "    tot = tot + prod\n",
    "\n",
    "print(tot)"
   ]
  },
  {
   "cell_type": "code",
   "execution_count": null,
   "id": "d00ba8b6-a5b3-487c-9da1-a1998dacb592",
   "metadata": {},
   "outputs": [],
   "source": []
  }
 ],
 "metadata": {
  "kernelspec": {
   "display_name": "Python 3 (ipykernel)",
   "language": "python",
   "name": "python3"
  },
  "language_info": {
   "codemirror_mode": {
    "name": "ipython",
    "version": 3
   },
   "file_extension": ".py",
   "mimetype": "text/x-python",
   "name": "python",
   "nbconvert_exporter": "python",
   "pygments_lexer": "ipython3",
   "version": "3.12.5"
  }
 },
 "nbformat": 4,
 "nbformat_minor": 5
}
