{
 "cells": [
  {
   "cell_type": "code",
   "execution_count": 1,
   "id": "69d78589-af0d-4a3c-b377-b5cbb60e25fa",
   "metadata": {},
   "outputs": [],
   "source": [
    "input_file = open(r\"C:\\Users\\Avi\\Documents\\Jupyter Notebooks\\Advent of Code 2023\\Input_4.txt\")\n",
    "input_file = input_file.read()"
   ]
  },
  {
   "cell_type": "code",
   "execution_count": 2,
   "id": "c4a90a75-4b2d-4b79-ad7d-4ca5f9b15d81",
   "metadata": {},
   "outputs": [
    {
     "name": "stdout",
     "output_type": "stream",
     "text": [
      "21568\n"
     ]
    }
   ],
   "source": [
    "#part 1\n",
    "\n",
    "import math\n",
    "\n",
    "file = input_file.split(\"\\n\")\n",
    "nums = [line.split(\":\")[1] for line in file]\n",
    "\n",
    "tot = sum(int(math.pow(2, sum(1 if num in list(filter(None, line.split(\"|\")[0].split(\" \"))) else 0 for num in line.split(\"|\")[1].split(\" \")) - 1)) for line in nums)\n",
    "print(tot)"
   ]
  },
  {
   "cell_type": "code",
   "execution_count": 5,
   "id": "a4cfd866-1dc4-4563-b4d5-50e4ed0c1133",
   "metadata": {},
   "outputs": [
    {
     "name": "stdout",
     "output_type": "stream",
     "text": [
      "11827296\n"
     ]
    }
   ],
   "source": [
    "#part 2\n",
    "\n",
    "#should take recursive approach, to avoid processing the same card multiple times\n",
    "nums = [line.split(\":\")[1] for line in file]\n",
    "cards = [1 for line in file]\n",
    "\n",
    "matches = 0\n",
    "for k,v in enumerate(cards):\n",
    "\n",
    "    matches =  sum(1 if num in list(filter(None, nums[k].split(\"|\")[0].split(\" \"))) else 0 for num in nums[k].split(\"|\")[1].split(\" \"))\n",
    "    for i in range(k + 1, min(k + matches + 1, len(cards))):\n",
    "        # print(i, cards[i], v)\n",
    "        cards[i] += v\n",
    "        # print(i, cards[i])\n",
    "print(sum(cards))"
   ]
  },
  {
   "cell_type": "code",
   "execution_count": null,
   "id": "b19f276f-f8c2-4c8b-86d6-0fe891eefdf2",
   "metadata": {},
   "outputs": [],
   "source": []
  }
 ],
 "metadata": {
  "kernelspec": {
   "display_name": "Python 3 (ipykernel)",
   "language": "python",
   "name": "python3"
  },
  "language_info": {
   "codemirror_mode": {
    "name": "ipython",
    "version": 3
   },
   "file_extension": ".py",
   "mimetype": "text/x-python",
   "name": "python",
   "nbconvert_exporter": "python",
   "pygments_lexer": "ipython3",
   "version": "3.12.5"
  }
 },
 "nbformat": 4,
 "nbformat_minor": 5
}
